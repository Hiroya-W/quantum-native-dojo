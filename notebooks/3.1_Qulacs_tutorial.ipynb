{
 "cells": [
  {
   "cell_type": "markdown",
   "metadata": {},
   "source": [
    "## 3-1. 世界最高速シミュレータQulacsの使い方\n",
    "\n",
    "量子アルゴリズムを実際に実行するのに第2章ではSymPyを用いたが、SymPyは代数的な計算に特化している分、大規模・高速な計算は不得手である。この節では、世界最高クラスの動作速度を持つ量子コンピュータのシミュレータ [Qulacs](https://github.com/qulacs/qulacs) の使い方を紹介する。Qulacsの内部はC++で実装されており非常に高速で動作するが、Pythonインタフェースを通して簡単に実装することができる。\n",
    "\n",
    "※なお、量子コンピュータのシミュレータとしては他にもIBMの[Qiskit](https://qiskit.org), Rigetti Conmputingの[PyQuil](https://github.com/rigetti/pyquil)（[クラウド量子コンピュータ](https://www.rigetti.com)あり）, Googleの[Cirq](https://github.com/quantumlib/Cirq), Microsoftの[Q#](https://www.microsoft.com/en-us/quantum/development-kit) がある。PyQuilについては、[こちらの記事](https://qiita.com/TenninYan/items/82d6e9f94321de0bb4c0)も参考にしてみてほしい。"
   ]
  },
  {
   "cell_type": "markdown",
   "metadata": {},
   "source": [
    "### Qulacsのインストール\n",
    "Qulacs は pip を使って簡単にインストールすることができる。詳しくはQulacsのドキュメントを参照されたい。"
   ]
  },
  {
   "cell_type": "code",
   "execution_count": null,
   "metadata": {},
   "outputs":[],
   "source": [
    "## Google Colaboratoryの場合 ・ Qulacsがインストールされていないlocal環境の場合のみ実行してください\n",
    "!pip install qulacs\n",
    "\n",
    "## Google Colaboratory / (Linux or Mac)のjupyter notebook 環境の場合にのみ実行してください。\n",
    "## Qulacsのエラーが正常に出力されるようになります。\n",
    "!pip3 install wurlitzer\n",
    "%load_ext wurlitzer"
   ]
  },
  {
   "cell_type": "markdown",
   "metadata": {},
   "source": [
    "### Qulacsの使い方(1)：量子状態\n",
    "\n",
    "#### 量子状態の作成\n",
    "Qulacsでは、以下のコードで$n$量子ビットの量子状態 (`QuantumState`クラス) を生成できる。生成した量子状態は $|0\\rangle^{\\otimes n}$ に初期化されている。"
   ]
  },
  {
   "cell_type": "code",
   "execution_count": 1,
   "metadata": {},
   "outputs": [],
   "source": [
    "from qulacs import QuantumState\n",
    "\n",
    "# 5-qubitの状態を生成\n",
    "n = 5\n",
    "state = QuantumState(n)\n",
    "\n",
    "# |00000>に初期化\n",
    "state.set_zero_state()"
   ]
  },
  {
   "cell_type": "markdown",
   "metadata": {},
   "source": [
    "$n$が非常に大きい場合など、メモリが不足している場合は量子状態を生成できない。"
   ]
  },
  {
   "cell_type": "markdown",
   "metadata": {},
   "source": [
    "#### 量子状態のデータの取得\n",
    "`QuantumState.get_vector()`を用いると、量子状態を表す $2^n$ の長さの配列を取得できる。特にGPUで量子状態を作成したり、大きい $n$ では非常に重い操作になるので注意。"
   ]
  },
  {
   "cell_type": "code",
   "execution_count": 2,
   "metadata": {},
   "outputs": [
    {
     "name": "stdout",
     "output_type": "stream",
     "text": [
      "[1.+0.j 0.+0.j 0.+0.j 0.+0.j 0.+0.j 0.+0.j 0.+0.j 0.+0.j 0.+0.j 0.+0.j\n",
      " 0.+0.j 0.+0.j 0.+0.j 0.+0.j 0.+0.j 0.+0.j 0.+0.j 0.+0.j 0.+0.j 0.+0.j\n",
      " 0.+0.j 0.+0.j 0.+0.j 0.+0.j 0.+0.j 0.+0.j 0.+0.j 0.+0.j 0.+0.j 0.+0.j\n",
      " 0.+0.j 0.+0.j]\n"
     ]
    }
   ],
   "source": [
    "from qulacs import QuantumState\n",
    "\n",
    "n = 5\n",
    "state = QuantumState(n)\n",
    "state.set_zero_state()\n",
    "\n",
    "# 状態ベクトルをnumpy arrayとして取得\n",
    "data = state.get_vector()\n",
    "print(data)"
   ]
  },
  {
   "cell_type": "markdown",
   "metadata": {},
   "source": [
    "#### 量子状態の初期化\n",
    "\n",
    "生成した量子状態は、二進数を用いて初期化(`set_computational_basis`)したり、ランダムな状態に初期化(`set_Haar_random_state`)することができる。"
   ]
  },
  {
   "cell_type": "code",
   "execution_count": 3,
   "metadata": {},
   "outputs": [
    {
     "name": "stdout",
     "output_type": "stream",
     "text": [
      "[0.+0.j 0.+0.j 0.+0.j 0.+0.j 0.+0.j 1.+0.j 0.+0.j 0.+0.j 0.+0.j 0.+0.j\n",
      " 0.+0.j 0.+0.j 0.+0.j 0.+0.j 0.+0.j 0.+0.j 0.+0.j 0.+0.j 0.+0.j 0.+0.j\n",
      " 0.+0.j 0.+0.j 0.+0.j 0.+0.j 0.+0.j 0.+0.j 0.+0.j 0.+0.j 0.+0.j 0.+0.j\n",
      " 0.+0.j 0.+0.j]\n",
      "[-0.02437065-0.24658958j -0.01613144+0.13503688j -0.18994795-0.12319831j\n",
      "  0.06504845+0.16830255j -0.21598901+0.18730307j -0.16812459-0.02947785j\n",
      " -0.19220647-0.09961786j  0.10572396+0.00775966j -0.0680691 -0.02781797j\n",
      " -0.13307298+0.16938736j  0.03958908+0.10715579j  0.01297565-0.13433703j\n",
      " -0.06164082-0.07189014j -0.07461534+0.18664457j  0.12610337-0.12079184j\n",
      "  0.04721677+0.05207131j -0.01081212+0.24851703j  0.02671697-0.00200128j\n",
      " -0.03405007-0.3028626j   0.04368712-0.047096j    0.27087639+0.20331916j\n",
      " -0.11928844+0.02439986j  0.09817583+0.22850291j -0.08822065-0.01851942j\n",
      " -0.08319959+0.12819258j  0.00568074-0.02627961j  0.08279638-0.10588521j\n",
      "  0.04417022-0.01161947j -0.05749897-0.22828609j -0.00629634+0.04739956j\n",
      " -0.09164645-0.10147242j  0.13382742+0.04209609j]\n",
      "[ 0.09232558+0.06460115j  0.14544754-0.10413526j  0.11300793-0.02455806j\n",
      "  0.00811251+0.2426378j  -0.01116588+0.23770313j -0.10691448+0.0487731j\n",
      " -0.01654446+0.17073103j  0.22250403+0.01934699j  0.04728154+0.22585226j\n",
      "  0.04475383+0.20375993j -0.10592159+0.10428549j -0.10175932-0.04016904j\n",
      "  0.04241271+0.08723859j  0.18205362+0.06190871j  0.14103367-0.12925877j\n",
      " -0.08269267+0.08879486j -0.14479848-0.0183179j  -0.32601567+0.06762062j\n",
      "  0.03482754+0.04464901j  0.09181499+0.05497985j  0.06870746+0.12628442j\n",
      " -0.00624006-0.21793139j -0.11181371+0.2659879j  -0.04589826+0.00891387j\n",
      " -0.04058365+0.30265587j -0.13894575-0.04392724j -0.03499327+0.0184768j\n",
      "  0.05033425-0.07376874j  0.07124237+0.15451312j  0.09319498+0.08341551j\n",
      " -0.03002195-0.14677347j -0.05309219+0.10184815j]\n"
     ]
    }
   ],
   "source": [
    "from qulacs import QuantumState\n",
    "\n",
    "n = 5\n",
    "state = QuantumState(n)\n",
    "state.set_zero_state()\n",
    "\n",
    "# |00101> に初期化\n",
    "state.set_computational_basis(0b00101)\n",
    "print(state.get_vector())\n",
    "\n",
    "# ランダムな初期状態を生成\n",
    "state.set_Haar_random_state()\n",
    "print(state.get_vector())\n",
    "\n",
    "# シードを指定してランダムな初期状態を生成\n",
    "seed = 0\n",
    "state.set_Haar_random_state(seed)\n",
    "print(state.get_vector())"
   ]
  },
  {
   "cell_type": "markdown",
   "metadata": {},
   "source": [
    "#### 量子状態のデータのコピーとロード\n",
    "量子状態を複製(`copy`)したり、他の量子状態のデータをロード(`load`)できる。"
   ]
  },
  {
   "cell_type": "code",
   "execution_count": 4,
   "metadata": {},
   "outputs": [
    {
     "name": "stdout",
     "output_type": "stream",
     "text": [
      "[0.+0.j 0.+0.j 0.+0.j 0.+0.j 0.+0.j 1.+0.j 0.+0.j 0.+0.j 0.+0.j 0.+0.j\n",
      " 0.+0.j 0.+0.j 0.+0.j 0.+0.j 0.+0.j 0.+0.j 0.+0.j 0.+0.j 0.+0.j 0.+0.j\n",
      " 0.+0.j 0.+0.j 0.+0.j 0.+0.j 0.+0.j 0.+0.j 0.+0.j 0.+0.j 0.+0.j 0.+0.j\n",
      " 0.+0.j 0.+0.j]\n",
      "[0.+0.j 0.+0.j 0.+0.j 0.+0.j 0.+0.j 1.+0.j 0.+0.j 0.+0.j 0.+0.j 0.+0.j\n",
      " 0.+0.j 0.+0.j 0.+0.j 0.+0.j 0.+0.j 0.+0.j 0.+0.j 0.+0.j 0.+0.j 0.+0.j\n",
      " 0.+0.j 0.+0.j 0.+0.j 0.+0.j 0.+0.j 0.+0.j 0.+0.j 0.+0.j 0.+0.j 0.+0.j\n",
      " 0.+0.j 0.+0.j]\n"
     ]
    }
   ],
   "source": [
    "from qulacs import QuantumState\n",
    "\n",
    "n = 5\n",
    "state = QuantumState(n)\n",
    "state.set_computational_basis(0b00101)\n",
    "\n",
    "# コピーして新たな量子状態を作成\n",
    "second_state = state.copy()\n",
    "print(second_state.get_vector())\n",
    "\n",
    "# 量子状態を新たに作成し、既存の状態のベクトルをコピー\n",
    "third_state = QuantumState(n)\n",
    "third_state.load(state)\n",
    "print(third_state.get_vector())"
   ]
  },
  {
   "cell_type": "markdown",
   "metadata": {},
   "source": [
    "#### 量子状態に関する計算\n",
    "上で挙げた以外にも、量子状態(`QuantumState`)には種々の処理が可能である。"
   ]
  },
  {
   "cell_type": "code",
   "execution_count": 5,
   "metadata": {},
   "outputs": [
    {
     "name": "stdout",
     "output_type": "stream",
     "text": [
      "squared_norm :  1.0\n",
      "entropy :  3.0719687986623603\n",
      "prob_meas_3rd :  0.5740657157322318\n",
      "marginal_prob :  0.04265173032311748\n"
     ]
    }
   ],
   "source": [
    "from qulacs import QuantumState\n",
    "\n",
    "n = 5\n",
    "state = QuantumState(n)\n",
    "state.set_Haar_random_state()\n",
    "\n",
    "# normの計算 (qulacs v0.1.8 で get_norm から get_squared_norm に名前が変更になりました)\n",
    "norm = state.get_squared_norm()\n",
    "print(\"squared_norm : \", norm)\n",
    "\n",
    "# Z基底で測定した時のentropyの計算\n",
    "entropy = state.get_entropy() \n",
    "print(\"entropy : \",entropy)\n",
    "\n",
    "# index-th qubitをZ基底で測定して0を得る確率の計算\n",
    "index = 3\n",
    "zero_probability = state.get_zero_probability(index)\n",
    "print(\"prob_meas_3rd : \",zero_probability)\n",
    "\n",
    "# 周辺確率を計算 (以下は0,3-th qubitが0、1,2-th qubitが1と測定される確率の例)\n",
    "value_list = [0,1,1,0,2]\n",
    "marginal_probability = state.get_marginal_probability(value_list)\n",
    "print(\"marginal_prob : \",marginal_probability)"
   ]
  },
  {
   "cell_type": "markdown",
   "metadata": {},
   "source": [
    "#### 量子状態の内積\n",
    "`inner_product`関数で内積を計算できる。"
   ]
  },
  {
   "cell_type": "code",
   "execution_count": 6,
   "metadata": {},
   "outputs": [
    {
     "name": "stdout",
     "output_type": "stream",
     "text": [
      "(0.07448994812927281-0.1223698589819414j)\n"
     ]
    }
   ],
   "source": [
    "from qulacs import QuantumState\n",
    "from qulacs.state import inner_product\n",
    "\n",
    "n = 5\n",
    "state_bra = QuantumState(n)\n",
    "state_ket = QuantumState(n)\n",
    "state_bra.set_Haar_random_state()\n",
    "state_ket.set_computational_basis(0)\n",
    "\n",
    "# 内積値の計算\n",
    "value = inner_product(state_bra, state_ket)\n",
    "print(value)"
   ]
  },
  {
   "cell_type": "markdown",
   "metadata": {},
   "source": [
    "#### 量子状態の解放\n",
    "`del` を用いて量子状態を強制的にメモリから解放することができる。`del` せずとも利用されなくなったタイミングで解放されるが、メモリがシビアな際に便利である。"
   ]
  },
  {
   "cell_type": "code",
   "execution_count": 7,
   "metadata": {},
   "outputs": [],
   "source": [
    "from qulacs import QuantumState\n",
    "\n",
    "n = 5\n",
    "state = QuantumState(n)\n",
    "\n",
    "# 量子状態を開放\n",
    "del state"
   ]
  },
  {
   "cell_type": "markdown",
   "metadata": {},
   "source": [
    "#### 量子状態の詳細情報の取得\n",
    "`QuantumState`クラスのオブジェクトを直接 `print` すると、量子状態の情報が出力される。"
   ]
  },
  {
   "cell_type": "code",
   "execution_count": 8,
   "metadata": {},
   "outputs": [
    {
     "name": "stdout",
     "output_type": "stream",
     "text": [
      " *** Quantum State ***\n",
      " * Qubit Count : 5\n",
      " * Dimension   : 32\n",
      " * State vector : \n",
      "(1,0)\n",
      "(0,0)\n",
      "(0,0)\n",
      "(0,0)\n",
      "(0,0)\n",
      "(0,0)\n",
      "(0,0)\n",
      "(0,0)\n",
      "(0,0)\n",
      "(0,0)\n",
      "(0,0)\n",
      "(0,0)\n",
      "(0,0)\n",
      "(0,0)\n",
      "(0,0)\n",
      "(0,0)\n",
      "(0,0)\n",
      "(0,0)\n",
      "(0,0)\n",
      "(0,0)\n",
      "(0,0)\n",
      "(0,0)\n",
      "(0,0)\n",
      "(0,0)\n",
      "(0,0)\n",
      "(0,0)\n",
      "(0,0)\n",
      "(0,0)\n",
      "(0,0)\n",
      "(0,0)\n",
      "(0,0)\n",
      "(0,0)\n",
      "\n"
     ]
    }
   ],
   "source": [
    "from qulacs import QuantumState\n",
    "\n",
    "n = 5\n",
    "state = QuantumState(n)\n",
    "\n",
    "print(state)"
   ]
  },
  {
   "cell_type": "markdown",
   "metadata": {},
   "source": [
    "### Qulacsの使い方(2)：量子ゲート\n",
    "\n",
    "#### 量子ゲートの生成と作用\n",
    "デフォルトで実装されている量子ゲートは`qulacs.gate`モジュールで定義される。"
   ]
  },
  {
   "cell_type": "code",
   "execution_count": 9,
   "metadata": {},
   "outputs": [
    {
     "name": "stdout",
     "output_type": "stream",
     "text": [
      "[1.+0.j 0.+0.j 0.+0.j 0.+0.j 0.+0.j 0.+0.j 0.+0.j 0.+0.j]\n",
      "[0.+0.j 0.+0.j 1.+0.j 0.+0.j 0.+0.j 0.+0.j 0.+0.j 0.+0.j]\n",
      "[0.38268343+0.j 0.        +0.j 0.92387953+0.j 0.        +0.j\n",
      " 0.        +0.j 0.        +0.j 0.        +0.j 0.        +0.j]\n",
      "[0.        +0.j 0.        +0.j 0.        +0.j 0.        +0.j\n",
      " 0.38268343+0.j 0.        +0.j 0.92387953+0.j 0.        +0.j]\n"
     ]
    }
   ],
   "source": [
    "import numpy as np\n",
    "from qulacs import QuantumState\n",
    "from qulacs.gate import X, RY, DenseMatrix\n",
    "\n",
    "n = 3\n",
    "state = QuantumState(n)\n",
    "state.set_zero_state()\n",
    "print(state.get_vector())\n",
    "\n",
    "# 1st-qubitにX操作 (|000> -> |010>)\n",
    "index = 1\n",
    "x_gate = X(index)\n",
    "x_gate.update_quantum_state(state)\n",
    "print(state.get_vector())\n",
    "\n",
    "# 1st-qubitをYパウリでpi/4.0回転\n",
    "angle = np.pi / 4.0\n",
    "ry_gate = RY(index, angle)\n",
    "ry_gate.update_quantum_state(state)\n",
    "print(state.get_vector())\n",
    "\n",
    "# 2nd-qubitにゲート行列で作成したゲートを作用\n",
    "dense_gate = DenseMatrix(2, [[0,1],[1,0]])\n",
    "dense_gate.update_quantum_state(state)\n",
    "print(state.get_vector())\n",
    "\n",
    "# ゲートの解放\n",
    "del x_gate\n",
    "del ry_gate\n",
    "del dense_gate"
   ]
  },
  {
   "cell_type": "markdown",
   "metadata": {},
   "source": [
    "事前に定義されているゲートは以下の通りである。\n",
    "\n",
    "- single-qubit Pauli operation: Identity, X, Y, Z\n",
    "- single-qubit Clifford operation : H, S, Sdag, T, Tdag, sqrtX, sqrtXdag, sqrtY, sqrtYdag\n",
    "- two-qubit Clifford operation : CNOT, CZ, SWAP\n",
    "- single-qubit Pauli rotation : RX, RY, RZ\n",
    "- General Pauli operation : Pauli, PauliRotation\n",
    "- IBMQ basis-gate : U1, U2, U3\n",
    "- General gate : DenseMatrix\n",
    "- Measurement : Measurement\n",
    "- Noise : BitFlipNoise, DephasingNoise, IndepenedentXZNoise, DepolarizingNoise\n",
    "\n",
    "回転ゲートである`RX`, `RY`, `RZ`, `PauliRotation`は所定のパウリ演算子$P$について、引数$\\theta$に対して$\\exp(i\\frac{\\theta}{2}P)$という操作を行う。それぞれのゲートの詳細は[APIドキュメント](http://qulacs.org/namespacegate.html)を参照されたい。"
   ]
  },
  {
   "cell_type": "markdown",
   "metadata": {},
   "source": [
    "#### 量子ゲートの合成\n",
    "続けて作用する量子ゲートを合成し、新たな単一の量子ゲートを生成できる。"
   ]
  },
  {
   "cell_type": "code",
   "execution_count": 10,
   "metadata": {},
   "outputs": [
    {
     "name": "stdout",
     "output_type": "stream",
     "text": [
      "[0.38268343+0.j 0.        +0.j 0.92387953+0.j 0.        +0.j\n",
      " 0.        +0.j 0.        +0.j 0.        +0.j 0.        +0.j]\n"
     ]
    }
   ],
   "source": [
    "import numpy as np\n",
    "from qulacs import QuantumState\n",
    "from qulacs.gate import X, RY, merge\n",
    "\n",
    "n = 3\n",
    "state = QuantumState(n)\n",
    "state.set_zero_state()\n",
    "\n",
    "index = 1\n",
    "x_gate = X(index)\n",
    "angle = np.pi / 4.0\n",
    "ry_gate = RY(index, angle)\n",
    "\n",
    "# ゲートを合成して新たなゲートを生成\n",
    "# 第一引数が先に作用する\n",
    "x_and_ry_gate = merge(x_gate, ry_gate)\n",
    "x_and_ry_gate.update_quantum_state(state)\n",
    "print(state.get_vector())"
   ]
  },
  {
   "cell_type": "markdown",
   "metadata": {},
   "source": [
    "#### 量子ゲートのゲート行列の和\n",
    "実際の量子コンピュータでこの操作を行うことは一般に難しいが、量子ゲートのゲート要素の和を取ることができる。\n",
    "(現状ではcontrol-qubitがある場合の和は動作が未定義なので利用しないことを勧める。)"
   ]
  },
  {
   "cell_type": "code",
   "execution_count": 11,
   "metadata": {},
   "outputs": [
    {
     "name": "stdout",
     "output_type": "stream",
     "text": [
      " *** gate info *** \n",
      " * gate name : DenseMatrix\n",
      " * target    : \n",
      " 0 : commute       \n",
      " 1 : commute       \n",
      " * control   : \n",
      " * Pauli     : no\n",
      " * Clifford  : no\n",
      " * Gaussian  : no\n",
      " * Parametric: no\n",
      " * Diagonal  : no\n",
      " * Matrix\n",
      "(1,0) (0,0) (0,0) (0,0)\n",
      "(0,0) (0,0) (0,0) (0,0)\n",
      "(0,0) (0,0) (0,0) (0,0)\n",
      "(0,0) (0,0) (0,0) (1,0)\n",
      "\n",
      " *** gate info *** \n",
      " * gate name : DenseMatrix\n",
      " * target    : \n",
      " 0 : commute       \n",
      " 1 : commute       \n",
      " * control   : \n",
      " * Pauli     : no\n",
      " * Clifford  : no\n",
      " * Gaussian  : no\n",
      " * Parametric: no\n",
      " * Diagonal  : no\n",
      " * Matrix\n",
      "(0.5,0)   (0,0)   (0,0) (0.5,0)\n",
      "  (0,0)   (0,0)   (0,0)   (0,0)\n",
      "  (0,0)   (0,0)   (0,0)   (0,0)\n",
      "(0.5,0)   (0,0)   (0,0) (0.5,0)\n",
      "\n"
     ]
    }
   ],
   "source": [
    "import numpy as np\n",
    "from qulacs import QuantumState\n",
    "from qulacs.gate import P0,P1,add, merge, Identity, X, Z\n",
    "\n",
    "gate00 = merge(P0(0),P0(1))\n",
    "gate11 = merge(P1(0),P1(1))\n",
    "# |00><00| + |11><11|\n",
    "proj_00_or_11 = add(gate00, gate11)\n",
    "print(proj_00_or_11)\n",
    "\n",
    "gate_ii_zz = add(Identity(0), merge(Z(0),Z(1)))\n",
    "gate_ii_xx = add(Identity(0), merge(X(0),X(1)))\n",
    "proj_00_plus_11 = merge(gate_ii_zz, gate_ii_xx)\n",
    "# ((|00>+|11>)(<00|+<11|))/2 = (II + ZZ)(II + XX)/4\n",
    "proj_00_plus_11.multiply_scalar(0.25)\n",
    "print(proj_00_plus_11)"
   ]
  },
  {
   "cell_type": "markdown",
   "metadata": {},
   "source": [
    "#### 特殊な量子ゲートと一般の量子ゲート\n",
    "Qulacsにおける基本量子ゲートは以下の二つに分けられる。\n",
    "\n",
    "- 特殊ゲート：そのゲートの作用について、専用の高速化がなされた関数があるもの。\n",
    "- 一般ゲート：ゲート行列を保持し、行列をかけて作用するもの。\n",
    "\n",
    "前者は後者に比べ専用の関数が作成されているため高速だが、コントロール量子ビットを増やすなど、量子ゲートの作用を変更する操作が後から行えない。こうした変更をしたい場合、特殊ゲートを一般ゲートに変換する必要があり、`gate.to_matrix_gate`で実現できる。"
   ]
  },
  {
   "cell_type": "code",
   "execution_count": 12,
   "metadata": {},
   "outputs": [
    {
     "name": "stdout",
     "output_type": "stream",
     "text": [
      "[0.+0.j 1.+0.j 0.+0.j 0.+0.j 0.+0.j 0.+0.j 0.+0.j 0.+0.j]\n"
     ]
    }
   ],
   "source": [
    "import numpy as np\n",
    "from qulacs import QuantumState\n",
    "from qulacs.gate import to_matrix_gate, X\n",
    "n = 3\n",
    "state = QuantumState(n)\n",
    "state.set_zero_state()\n",
    "\n",
    "index = 0\n",
    "x_gate = X(index)\n",
    "x_mat_gate = to_matrix_gate(x_gate)\n",
    "\n",
    "# 1st-qubitが0の場合だけゲートを作用\n",
    "control_index = 1\n",
    "control_with_value = 0\n",
    "x_mat_gate.add_control_qubit(control_index, control_with_value)\n",
    "\n",
    "x_mat_gate.update_quantum_state(state)\n",
    "print(state.get_vector())"
   ]
  },
  {
   "cell_type": "markdown",
   "metadata": {},
   "source": [
    "#### 量子ゲートのゲート行列の取得\n",
    "生成した量子ゲートのゲート行列を取得できる。（control量子ビットなどはゲート行列に含まれない。）特にゲート行列を持たない種類のゲート（例えば$n$量子ビットのパウリ回転ゲート）などは取得に非常に大きなメモリと時間を要するので気を付けてること。"
   ]
  },
  {
   "cell_type": "code",
   "execution_count": 13,
   "metadata": {},
   "outputs": [
    {
     "name": "stdout",
     "output_type": "stream",
     "text": [
      " *** gate info *** \n",
      " * gate name : X\n",
      " * target    : \n",
      " 0 : commute X     \n",
      " * control   : \n",
      " * Pauli     : yes\n",
      " * Clifford  : yes\n",
      " * Gaussian  : no\n",
      " * Parametric: no\n",
      " * Diagonal  : no\n",
      "\n",
      " *** gate info *** \n",
      " * gate name : DenseMatrix\n",
      " * target    : \n",
      " 0 : commute X     \n",
      " * control   : \n",
      " * Pauli     : no\n",
      " * Clifford  : no\n",
      " * Gaussian  : no\n",
      " * Parametric: no\n",
      " * Diagonal  : no\n",
      " * Matrix\n",
      "(0,0) (1,0)\n",
      "(1,0) (0,0)\n",
      "\n"
     ]
    }
   ],
   "source": [
    "from qulacs.gate import X, to_matrix_gate\n",
    "gate = X(0)\n",
    "print(gate)\n",
    "print(to_matrix_gate(gate))"
   ]
  },
  {
   "cell_type": "markdown",
   "metadata": {},
   "source": [
    "#### 一般的な量子ゲートの実現\n",
    "`qulacs.gate.DenseMatrix`を使うと、一般の行列からゲートを生成することができる。"
   ]
  },
  {
   "cell_type": "code",
   "execution_count": 14,
   "metadata": {},
   "outputs": [
    {
     "name": "stdout",
     "output_type": "stream",
     "text": [
      " *** gate info *** \n",
      " * gate name : DenseMatrix\n",
      " * target    : \n",
      " 0 : commute       \n",
      " * control   : \n",
      " * Pauli     : no\n",
      " * Clifford  : no\n",
      " * Gaussian  : no\n",
      " * Parametric: no\n",
      " * Diagonal  : no\n",
      " * Matrix\n",
      "(0,0) (1,0)\n",
      "(1,0) (0,0)\n",
      "\n",
      " *** gate info *** \n",
      " * gate name : DenseMatrix\n",
      " * target    : \n",
      " 0 : commute       \n",
      " 1 : commute       \n",
      " * control   : \n",
      " * Pauli     : no\n",
      " * Clifford  : no\n",
      " * Gaussian  : no\n",
      " * Parametric: no\n",
      " * Diagonal  : no\n",
      " * Matrix\n",
      "(1,0) (0,0) (0,0) (0,0)\n",
      "(0,0) (1,0) (0,0) (0,0)\n",
      "(0,0) (0,0) (0,0) (1,0)\n",
      "(0,0) (0,0) (1,0) (0,0)\n",
      "\n"
     ]
    }
   ],
   "source": [
    "from qulacs.gate import DenseMatrix\n",
    "\n",
    "# 1-qubit gateの場合\n",
    "gate = DenseMatrix(0, [[0,1],[1,0]])\n",
    "print(gate)\n",
    "\n",
    "# 2-qubit gateの場合\n",
    "gate = DenseMatrix([0,1], [[1,0,0,0],[0,1,0,0],[0,0,0,1],[0,0,1,0]])\n",
    "print(gate)"
   ]
  },
  {
   "cell_type": "markdown",
   "metadata": {},
   "source": [
    "### Qulacsの使い方(3)：量子回路\n",
    "\n",
    "#### 量子回路の構成\n",
    "量子回路(`QuantumCircuit`クラス)は量子ゲートの集合として表され、例えば以下のように量子回路を構成できる。"
   ]
  },
  {
   "cell_type": "code",
   "execution_count": 15,
   "metadata": {},
   "outputs": [
    {
     "name": "stdout",
     "output_type": "stream",
     "text": [
      "[ 0.1767767+0.j -0.1767767-0.j -0.1767767-0.j  0.1767767+0.j\n",
      " -0.1767767-0.j  0.1767767+0.j  0.1767767+0.j -0.1767767-0.j\n",
      " -0.1767767-0.j  0.1767767+0.j  0.1767767+0.j -0.1767767-0.j\n",
      "  0.1767767+0.j -0.1767767-0.j -0.1767767-0.j  0.1767767+0.j\n",
      " -0.1767767-0.j  0.1767767+0.j  0.1767767+0.j -0.1767767-0.j\n",
      "  0.1767767+0.j -0.1767767-0.j -0.1767767-0.j  0.1767767+0.j\n",
      "  0.1767767+0.j -0.1767767-0.j -0.1767767-0.j  0.1767767+0.j\n",
      " -0.1767767-0.j  0.1767767+0.j  0.1767767+0.j -0.1767767-0.j]\n"
     ]
    }
   ],
   "source": [
    "from qulacs import QuantumState, QuantumCircuit\n",
    "from qulacs.gate import Z\n",
    "n = 5\n",
    "state = QuantumState(n)\n",
    "state.set_zero_state()\n",
    "\n",
    "# 量子回路を定義\n",
    "circuit = QuantumCircuit(n)\n",
    "\n",
    "# 量子回路にhadamardゲートを追加\n",
    "for i in range(n):\n",
    "    circuit.add_H_gate(i)\n",
    "\n",
    "# ゲートを生成し、それを追加することもできる。\n",
    "for i in range(n):\n",
    "    circuit.add_gate(Z(i))\n",
    "\n",
    "# 量子回路を状態に作用\n",
    "circuit.update_quantum_state(state)\n",
    "\n",
    "print(state.get_vector())"
   ]
  },
  {
   "cell_type": "markdown",
   "metadata": {},
   "source": [
    "なお、`add_gate`で追加された量子回路は量子回路の解放時に一緒に解放される。従って、代入したゲートは再利用できない。引数として与えたゲートを再利用したい場合は`gate.copy`を用いて自身のコピーを作成するか、`add_gate_copy`関数を用いる必要がある。\n",
    "\n",
    "#### 量子回路のdepthの計算と最適化\n",
    "量子ゲートをまとめて一つの量子ゲートとすることで、量子ゲートの数を減らすことができ、数値計算の時間を短縮できることがある。（もちろん、対象となる量子ビットの数が増える場合や、専用関数を持つ量子ゲートを合成して専用関数を持たない量子ゲートにしてしまった場合は、トータルで計算時間が減少するかは状況に依る。）\n",
    "\n",
    "下記のコードでは`optimize`関数を用いて、量子回路の量子ゲートをターゲットとなる量子ビットが3つになるまで貪欲法で合成を繰り返している。"
   ]
  },
  {
   "cell_type": "code",
   "execution_count": 16,
   "metadata": {},
   "outputs": [
    {
     "name": "stdout",
     "output_type": "stream",
     "text": [
      "10\n",
      "1\n"
     ]
    }
   ],
   "source": [
    "from qulacs import QuantumCircuit\n",
    "from qulacs.circuit import QuantumCircuitOptimizer\n",
    "n = 5\n",
    "depth = 10\n",
    "circuit = QuantumCircuit(n)\n",
    "for d in range(depth):\n",
    "    for i in range(n):\n",
    "        circuit.add_H_gate(i)\n",
    "\n",
    "# depthを計算(depth=10)\n",
    "print(circuit.calculate_depth())\n",
    "\n",
    "# 最適化\n",
    "opt = QuantumCircuitOptimizer()\n",
    "# 作成を許す最大の量子ゲートのサイズ\n",
    "max_block_size = 1\n",
    "opt.optimize(circuit, max_block_size)\n",
    "\n",
    "# depthを計算(depth=1へ)\n",
    "print(circuit.calculate_depth())"
   ]
  },
  {
   "cell_type": "markdown",
   "metadata": {},
   "source": [
    "#### 量子回路の情報デバッグ\n",
    "量子回路を`print`すると、量子回路に含まれるゲートの統計情報などが表示される。"
   ]
  },
  {
   "cell_type": "code",
   "execution_count": 17,
   "metadata": {},
   "outputs": [
    {
     "name": "stdout",
     "output_type": "stream",
     "text": [
      "*** Quantum Circuit Info ***\n",
      "# of qubit: 5\n",
      "# of step : 10\n",
      "# of gate : 50\n",
      "# of 1 qubit gate: 50\n",
      "Clifford  : yes\n",
      "Gaussian  : no\n",
      "\n",
      "\n"
     ]
    }
   ],
   "source": [
    "from qulacs import QuantumCircuit\n",
    "from qulacs.circuit import QuantumCircuitOptimizer\n",
    "n = 5\n",
    "depth = 10\n",
    "circuit = QuantumCircuit(n)\n",
    "for d in range(depth):\n",
    "    for i in range(n):\n",
    "        circuit.add_H_gate(i)\n",
    "print(circuit)"
   ]
  },
  {
   "cell_type": "markdown",
   "metadata": {},
   "source": [
    "### Qulacsの使い方(4)：オブザーバブル\n",
    "(量子力学のオブザーバブルに詳しくない読者は、この節は後で読めば良い)   \n",
    "詳しくは次の第４章で学ぶが、量子力学においては、**物理量はエルミート演算子**$A$**で表され、オブザーバブルとも呼ばれる**（エルミート演算子は$A^\\dagger=A$を満たす）。状態$|\\psi\\rangle$について$A$の「射影測定」というものを行うと、$|\\psi\\rangle$をAの固有状態$\\{|a_i\\rangle\\}_i$（固有値$a_i$）で展開した係数\n",
    "\n",
    "$$\n",
    " |\\psi\\rangle = \\sum_i c_i |a_i\\rangle\n",
    "$$\n",
    "\n",
    "に応じた確率$|c_i|^2$で測定値$a_i$が得られ、その期待値は$\\langle\\psi|A|\\psi\\rangle$となる。\n",
    "\n",
    "#### オブザーバブルの生成\n",
    "Qulacsでは、オブザーバブルはパウリ演算子$X,Y,Z$の（直積の）集合として表現される。（エルミートな演算子は必ずパウリ演算子の直積の和で表されるので。）パウリ演算子は下記のように定義できる。"
   ]
  },
  {
   "cell_type": "code",
   "execution_count": 18,
   "metadata": {},
   "outputs": [],
   "source": [
    "from qulacs import Observable\n",
    "n = 5\n",
    "coef = 2.0\n",
    "# 2.0 X_0 X_1 Y_2 Z_4というパウリ演算子を設定\n",
    "Pauli_string = \"X 0 X 1 Y 2 Z 4\"\n",
    "observable = Observable(n)\n",
    "observable.add_operator(coef,Pauli_string)"
   ]
  },
  {
   "cell_type": "markdown",
   "metadata": {},
   "source": [
    "#### オブザーバブルの評価\n",
    "状態に対してオブザーバブルの期待値を評価できる。"
   ]
  },
  {
   "cell_type": "code",
   "execution_count": 19,
   "metadata": {},
   "outputs": [
    {
     "name": "stdout",
     "output_type": "stream",
     "text": [
      "-0.027383733754500428\n"
     ]
    }
   ],
   "source": [
    "from qulacs import Observable, QuantumState\n",
    "\n",
    "n = 5\n",
    "coef = 2.0\n",
    "Pauli_string = \"X 0 X 1 Y 2 Z 4\"\n",
    "observable = Observable(n)\n",
    "observable.add_operator(coef,Pauli_string)\n",
    "\n",
    "state = QuantumState(n)\n",
    "state.set_Haar_random_state()\n",
    "# 期待値の計算\n",
    "value = observable.get_expectation_value(state)\n",
    "print(value)"
   ]
  },
  {
   "cell_type": "markdown",
   "metadata": {},
   "source": [
    "### Qulacsの使い方(5)：変分量子回路\n",
    "量子回路を`ParametricQuantumCircuit`クラスとして定義すると、通常の`QuantumCircuit`クラスの関数に加え、変分法を用いて量子回路を最適化するのに便利ないくつかの関数を利用することができる。これは第5章で学ぶ変分量子回路を実装する時に非常に役に立つ。\n",
    "\n",
    "#### 変分量子回路の利用例\n",
    "一つの回転角を持つ量子ゲート(X-rot, Y-rot, Z-rot, multi_qubit_pauli_rotation)はパラメトリックな量子ゲートとして量子回路に追加することができる。パラメトリックなゲートとして追加された量子ゲートについては、量子回路の構成後にパラメトリックなゲート数を取り出したり、後から回転角を変更することが可能である。"
   ]
  },
  {
   "cell_type": "code",
   "execution_count": 20,
   "metadata": {},
   "outputs": [
    {
     "name": "stdout",
     "output_type": "stream",
     "text": [
      " *** Quantum State ***\n",
      " * Qubit Count : 5\n",
      " * Dimension   : 32\n",
      " * State vector : \n",
      "  (-0.0673932,0.0932352)\n",
      "   (0.0793816,0.0803179)\n",
      " (-0.0240998,-0.0720735)\n",
      "    (0.0267232,0.103591)\n",
      "  (-0.089328,-0.0454438)\n",
      "  (-0.0273612,-0.172908)\n",
      "   (0.0753719,-0.185454)\n",
      "    (0.120598,0.0489211)\n",
      "(-0.0433311,-0.00542669)\n",
      "   (0.407492,-0.0683546)\n",
      "    (0.0712898,0.029486)\n",
      "   (-0.0374001,0.100097)\n",
      "    (0.0395997,0.166802)\n",
      "    (0.113313,0.0278069)\n",
      "  (0.00456149,0.0702255)\n",
      "    (-0.121551,0.306851)\n",
      "  (-0.0113109,0.0106071)\n",
      "    (0.158906,0.0897413)\n",
      "   (0.276642,0.00709558)\n",
      "   (-0.163862,0.0615158)\n",
      "  (-0.0507503,0.0898438)\n",
      "    (0.221342,0.0332379)\n",
      "   (-0.125741,-0.130305)\n",
      "    (0.0463867,0.225922)\n",
      "   (0.0493533,-0.127222)\n",
      "   (-0.235716,0.0564754)\n",
      "   (0.0206978,-0.129814)\n",
      "     (0.108871,0.107555)\n",
      "  (0.0917828,-0.0557612)\n",
      "     (0.180461,0.121747)\n",
      "   (0.0456678,0.0580318)\n",
      "    (0.0311144,0.203219)\n",
      "\n",
      "*** Quantum Circuit Info ***\n",
      "# of qubit: 5\n",
      "# of step : 41\n",
      "# of gate : 171\n",
      "# of 1 qubit gate: 150\n",
      "# of 2 qubit gate: 20\n",
      "# of 3 qubit gate: 0\n",
      "# of 4 qubit gate: 1\n",
      "Clifford  : no\n",
      "Gaussian  : no\n",
      "\n",
      "*** Parameter Info ***\n",
      "# of parameter: 151\n",
      "\n"
     ]
    }
   ],
   "source": [
    "from qulacs import ParametricQuantumCircuit\n",
    "from qulacs import QuantumState\n",
    "import numpy as np\n",
    "\n",
    "n = 5\n",
    "depth = 10\n",
    "\n",
    "# construct parametric quantum circuit with random rotation\n",
    "circuit = ParametricQuantumCircuit(n)\n",
    "for d in range(depth):\n",
    "\tfor i in range(n):\n",
    "\t\tangle = np.random.rand()\n",
    "\t\tcircuit.add_parametric_RX_gate(i,angle)\n",
    "\t\tangle = np.random.rand()\n",
    "\t\tcircuit.add_parametric_RY_gate(i,angle)\n",
    "\t\tangle = np.random.rand()\n",
    "\t\tcircuit.add_parametric_RZ_gate(i,angle)\n",
    "\tfor i in range(d%2, n-1, 2):\n",
    "\t\tcircuit.add_CNOT_gate(i,i+1)\n",
    "\n",
    "# add multi-qubit Pauli rotation gate as parametric gate (X_0 Y_3 Y_1 X_4)\n",
    "target = [0,3,1,4]\n",
    "pauli_ids = [1,2,2,1]\n",
    "angle = np.random.rand()\n",
    "circuit.add_parametric_multi_Pauli_rotation_gate(target, pauli_ids, angle)\n",
    "\n",
    "# get variable parameter count, and get current parameter\n",
    "parameter_count = circuit.get_parameter_count()\n",
    "param = [circuit.get_parameter(ind) for ind in range(parameter_count)]\n",
    "\n",
    "# set 3rd parameter to 0\n",
    "circuit.set_parameter(3, 0.)\n",
    "\n",
    "# update quantum state\n",
    "state = QuantumState(n)\n",
    "circuit.update_quantum_state(state)\n",
    "\n",
    "# output state and circuit info\n",
    "print(state)\n",
    "print(circuit)"
   ]
  },
  {
   "cell_type": "markdown",
   "metadata": {},
   "source": [
    "### まとめ\n",
    "以上、駆け足でQulacsの使い方を見てきた。Qulacsは慣れれば非常に高速で、使い勝手の良いライブラリになっている。各種関数の詳細については、公式の[APIドキュメント](http://qulacs.org)や[チュートリアル](http://qulacs.org/md_3__tutorial_python.html)も参照されたい。"
   ]
  }
 ],
 "metadata": {
  "kernelspec": {
   "display_name": "Python 3",
   "language": "python",
   "name": "python3"
  },
  "language_info": {
   "codemirror_mode": {
    "name": "ipython",
    "version": 3
   },
   "file_extension": ".py",
   "mimetype": "text/x-python",
   "name": "python",
   "nbconvert_exporter": "python",
   "pygments_lexer": "ipython3",
   "version": "3.9.1"
  },
  "varInspector": {
   "cols": {
    "lenName": 16,
    "lenType": 16,
    "lenVar": 40
   },
   "kernels_config": {
    "python": {
     "delete_cmd_postfix": "",
     "delete_cmd_prefix": "del ",
     "library": "var_list.py",
     "varRefreshCmd": "print(var_dic_list())"
    },
    "r": {
     "delete_cmd_postfix": ") ",
     "delete_cmd_prefix": "rm(",
     "library": "var_list.r",
     "varRefreshCmd": "cat(var_dic_list()) "
    }
   },
   "types_to_exclude": [
    "module",
    "function",
    "builtin_function_or_method",
    "instance",
    "_Feature"
   ],
   "window_display": false
  }
 },
 "nbformat": 4,
 "nbformat_minor": 2
}
